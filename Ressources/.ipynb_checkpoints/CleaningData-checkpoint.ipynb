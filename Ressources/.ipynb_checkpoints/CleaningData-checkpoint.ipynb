{
 "cells": [
  {
   "cell_type": "code",
   "execution_count": 2,
   "id": "9c4cc100-bda0-4ab5-b121-09e7e24ec6b6",
   "metadata": {},
   "outputs": [
    {
     "name": "stdout",
     "output_type": "stream",
     "text": [
      "   Id_bien        Date  Valeur\n",
      "0        1  2020-06-30   29500\n",
      "1        2  2020-06-30   36000\n",
      "2        3  2020-06-30  135000\n",
      "3        4  2020-06-30   90000\n",
      "4        5  2020-06-30   64600\n"
     ]
    }
   ],
   "source": [
    "import pandas as pd\n",
    "import os\n",
    "\n",
    "current_directory = os.getcwd()\n",
    "\n",
    "input_file = os.path.join(current_directory, 'VenteDB.csv')\n",
    "output_file = os.path.join(current_directory, 'VenteDB_modified.csv')\n",
    "\n",
    "df = pd.read_csv(input_file, sep=';')\n",
    "\n",
    "df['Date'] = pd.to_datetime(df['Date'], format='%d/%m/%Y', errors='coerce').dt.strftime('%Y-%m-%d')\n",
    "\n",
    "df.to_csv(output_file, index=False, sep=';')\n",
    "\n",
    "print(df.head())"
   ]
  }
 ],
 "metadata": {
  "kernelspec": {
   "display_name": "Python 3 (ipykernel)",
   "language": "python",
   "name": "python3"
  },
  "language_info": {
   "codemirror_mode": {
    "name": "ipython",
    "version": 3
   },
   "file_extension": ".py",
   "mimetype": "text/x-python",
   "name": "python",
   "nbconvert_exporter": "python",
   "pygments_lexer": "ipython3",
   "version": "3.13.1"
  }
 },
 "nbformat": 4,
 "nbformat_minor": 5
}
